{
  "cells": [
    {
      "cell_type": "markdown",
      "metadata": {
        "id": "huBh2iFkhxMq"
      },
      "source": [
        "# Sujet n°6 : Deepfake\n",
        "*Sarfati Samuel, Dias Alexandre, Alvarez-Rodriguez Thomas , Moignet Gabriel*"
      ]
    },
    {
      "cell_type": "code",
      "execution_count": 2,
      "metadata": {
        "id": "3CUxh_3IYFdq"
      },
      "outputs": [],
      "source": [
        "#Librairies et bibliothèques nécessaires au fichier\n",
        "import pandas as pd\n",
        "import matplotlib.pyplot as plt\n",
        "import numpy as np\n",
        "import math as m\n",
        "from scipy.stats import binom_test\n",
        "from scipy.stats import norm\n",
        "from scipy.stats import chi2_contingency"
      ]
    },
    {
      "cell_type": "code",
      "execution_count": 3,
      "metadata": {
        "id": "L6KdlKIGYUtT"
      },
      "outputs": [],
      "source": [
        "#Importation du fichier csv pour le lire.\n",
        "df=pd.read_csv(\"pilot.csv\",parse_dates=True)"
      ]
    },
    {
      "cell_type": "markdown",
      "metadata": {
        "id": "OrB1a__PVBNv"
      },
      "source": [
        "## Visualisation et analyse exploratoire des données"
      ]
    },
    {
      "cell_type": "markdown",
      "metadata": {
        "id": "8iVWH3fkXnKe"
      },
      "source": [
        "### Le jeu de données"
      ]
    },
    {
      "cell_type": "markdown",
      "metadata": {
        "id": "yVxgFLimjSuy"
      },
      "source": [
        "Voici un aperçu des premières lignes du jeu de données."
      ]
    },
    {
      "cell_type": "code",
      "execution_count": 4,
      "metadata": {
        "colab": {
          "base_uri": "https://localhost:8080/",
          "height": 0
        },
        "id": "EwRcXKFajSHO",
        "outputId": "461cbd8c-484a-4fde-ca6d-f91a6d0c5f00"
      },
      "outputs": [
        {
          "data": {
            "text/html": [
              "<div>\n",
              "<style scoped>\n",
              "    .dataframe tbody tr th:only-of-type {\n",
              "        vertical-align: middle;\n",
              "    }\n",
              "\n",
              "    .dataframe tbody tr th {\n",
              "        vertical-align: top;\n",
              "    }\n",
              "\n",
              "    .dataframe thead th {\n",
              "        text-align: right;\n",
              "    }\n",
              "</style>\n",
              "<table border=\"1\" class=\"dataframe\">\n",
              "  <thead>\n",
              "    <tr style=\"text-align: right;\">\n",
              "      <th></th>\n",
              "      <th>guess</th>\n",
              "      <th>correct</th>\n",
              "      <th>seen</th>\n",
              "      <th>user_id</th>\n",
              "      <th>time_created</th>\n",
              "    </tr>\n",
              "  </thead>\n",
              "  <tbody>\n",
              "    <tr>\n",
              "      <th>0</th>\n",
              "      <td>0</td>\n",
              "      <td>0</td>\n",
              "      <td>0</td>\n",
              "      <td>f1384754171255ab8e7ed81986701d7f</td>\n",
              "      <td>2020-04-30 20:35:25</td>\n",
              "    </tr>\n",
              "    <tr>\n",
              "      <th>1</th>\n",
              "      <td>0</td>\n",
              "      <td>1</td>\n",
              "      <td>1</td>\n",
              "      <td>f1384754171255ab8e7ed81986701d7f</td>\n",
              "      <td>2020-04-30 20:35:36</td>\n",
              "    </tr>\n",
              "    <tr>\n",
              "      <th>2</th>\n",
              "      <td>1</td>\n",
              "      <td>1</td>\n",
              "      <td>2</td>\n",
              "      <td>f1384754171255ab8e7ed81986701d7f</td>\n",
              "      <td>2020-04-30 20:35:46</td>\n",
              "    </tr>\n",
              "    <tr>\n",
              "      <th>3</th>\n",
              "      <td>1</td>\n",
              "      <td>0</td>\n",
              "      <td>3</td>\n",
              "      <td>f1384754171255ab8e7ed81986701d7f</td>\n",
              "      <td>2020-04-30 20:36:00</td>\n",
              "    </tr>\n",
              "    <tr>\n",
              "      <th>4</th>\n",
              "      <td>1</td>\n",
              "      <td>1</td>\n",
              "      <td>4</td>\n",
              "      <td>f1384754171255ab8e7ed81986701d7f</td>\n",
              "      <td>2020-04-30 20:36:17</td>\n",
              "    </tr>\n",
              "  </tbody>\n",
              "</table>\n",
              "</div>"
            ],
            "text/plain": [
              "   guess  correct  seen                           user_id         time_created\n",
              "0      0        0     0  f1384754171255ab8e7ed81986701d7f  2020-04-30 20:35:25\n",
              "1      0        1     1  f1384754171255ab8e7ed81986701d7f  2020-04-30 20:35:36\n",
              "2      1        1     2  f1384754171255ab8e7ed81986701d7f  2020-04-30 20:35:46\n",
              "3      1        0     3  f1384754171255ab8e7ed81986701d7f  2020-04-30 20:36:00\n",
              "4      1        1     4  f1384754171255ab8e7ed81986701d7f  2020-04-30 20:36:17"
            ]
          },
          "execution_count": 4,
          "metadata": {},
          "output_type": "execute_result"
        }
      ],
      "source": [
        "#Visualisation du jeu de données\n",
        "df.head()"
      ]
    },
    {
      "cell_type": "code",
      "execution_count": 5,
      "metadata": {
        "colab": {
          "base_uri": "https://localhost:8080/"
        },
        "id": "lMjhmE2mYNT1",
        "outputId": "97d42c83-6361-4cb3-b6d8-301fff860cd2"
      },
      "outputs": [
        {
          "name": "stdout",
          "output_type": "stream",
          "text": [
            "Le jeu de données possède  26820  lignes pour  5  colonnes de données.\n"
          ]
        }
      ],
      "source": [
        "print(\"Le jeu de données possède \",df.shape[0],\" lignes pour \",df.shape[1],\" colonnes de données.\")\n"
      ]
    },
    {
      "cell_type": "markdown",
      "metadata": {
        "id": "327MH-rfYrQi"
      },
      "source": [
        "Parmi ces 5 colonnes de données, chacune possède une information différente, telle que :"
      ]
    },
    {
      "cell_type": "code",
      "execution_count": 6,
      "metadata": {
        "colab": {
          "base_uri": "https://localhost:8080/"
        },
        "id": "NDilXnALYpK7",
        "outputId": "de7ee7a1-b099-422f-d537-9c763e436345"
      },
      "outputs": [
        {
          "name": "stdout",
          "output_type": "stream",
          "text": [
            "Les colonnes du jeu de données sont :  Index(['guess', 'correct', 'seen', 'user_id', 'time_created'], dtype='object')\n"
          ]
        }
      ],
      "source": [
        "print(\"Les colonnes du jeu de données sont : \",df.columns)"
      ]
    },
    {
      "cell_type": "markdown",
      "metadata": {
        "id": "gNFQ2-jYYxPd"
      },
      "source": [
        "\n",
        "Et peuvent être décrites de la manière suivante :\n",
        "*   guess : si la vidéo est identifiée comme \"Deepfake\" par le participant (0 non, 1 oui)\n",
        "*   correct : si la vidéo est \"Deepfake\" (0 non, 1 oui)\n",
        "*   seen : nombre d'essais réalisés par le participant sur différentes vidéos\n",
        "*   user_id : identifiant unique par utilisateur\n",
        "*   time_created : date et heure auxquels le test est présenté au participant.\n",
        "\n"
      ]
    },
    {
      "cell_type": "markdown",
      "metadata": {
        "id": "ggb4YTFsZZqU"
      },
      "source": [
        "Nous pouvons compter les relevés et candidats du jeu de données. "
      ]
    },
    {
      "cell_type": "code",
      "execution_count": 7,
      "metadata": {
        "colab": {
          "base_uri": "https://localhost:8080/"
        },
        "id": "7W2EKjQHZ7mz",
        "outputId": "09f2646e-5c92-49ba-98da-4634c3769c37"
      },
      "outputs": [
        {
          "name": "stdout",
          "output_type": "stream",
          "text": [
            "Nombre de relevés :  26820\n",
            "Nombre de candidats uniques :  5525\n"
          ]
        }
      ],
      "source": [
        "print(\"Nombre de relevés : \",len(df[\"user_id\"]))\n",
        "print(\"Nombre de candidats uniques : \",len(df[\"user_id\"].unique()))"
      ]
    },
    {
      "cell_type": "markdown",
      "metadata": {
        "id": "8Ha_sW2Sp11s"
      },
      "source": [
        "Comme nous allons le constater par la suite, le nombre de relevés n'est pas le même pour chaque candidat."
      ]
    },
    {
      "cell_type": "markdown",
      "metadata": {
        "id": "e-uycDqYVHck"
      },
      "source": [
        "### Répartition du nombre de visionnages"
      ]
    },
    {
      "cell_type": "code",
      "execution_count": 8,
      "metadata": {
        "colab": {
          "base_uri": "https://localhost:8080/",
          "height": 0
        },
        "id": "wXikm0oCZbKK",
        "outputId": "33ac0235-2857-45cd-c96c-9e4da2bff45a"
      },
      "outputs": [
        {
          "data": {
            "image/png": "[encoded data removed]",
            "text/plain": [
              "<Figure size 500x500 with 1 Axes>"
            ]
          },
          "metadata": {},
          "output_type": "display_data"
        },
        {
          "data": {
            "image/png": "[encoded data removed]",
            "text/plain": [
              "<Figure size 500x500 with 1 Axes>"
            ]
          },
          "metadata": {},
          "output_type": "display_data"
        }
      ],
      "source": [
        "#Nombre de tests par utilisateur unique\n",
        "nb_test_moy_par_user=df.value_counts(\"user_id\")\n",
        "\n",
        "#Histogramme du nombre de tests\n",
        "plt.figure(figsize=(5,5))\n",
        "plt.hist(nb_test_moy_par_user,bins=200)\n",
        "plt.title(\"Répartition du nombre de tests par utilisateur\")\n",
        "plt.show()\n",
        "\n",
        "#Histogramme du nombre de tests entre 0 et 20\n",
        "plt.figure(figsize=(5,5))\n",
        "plt.hist(nb_test_moy_par_user,bins=200)\n",
        "plt.title(\"Répartition du nombre de tests par utilisateur entre 0 et 20\")\n",
        "plt.xlim([0,20])\n",
        "plt.show()"
      ]
    },
    {
      "cell_type": "markdown",
      "metadata": {
        "id": "ycEwTkWaXDxw"
      },
      "source": [
        "On peut voir que la plupart des personnes n'ont fait qu'un unique test, et peu en ont fait 10. Il est apparent que les personnes ayant fait plus de 10 tests sont très minoritaires. Celles en ayant fait 1 ou 2 sont présentes en grande majorité.\n",
        "\n",
        "L'échelle du premier histogramme étant automatiquement comprise entre 0 et environ 250 nuit à la lecture de l'ensemble, on va donc utiliser un diagramme en boîte pour avoir une meilleure visualisation des données et remarquer des \"outliers\". "
      ]
    },
    {
      "cell_type": "code",
      "execution_count": 9,
      "metadata": {
        "colab": {
          "base_uri": "https://localhost:8080/",
          "height": 0
        },
        "id": "RAXd1EPkj9eA",
        "outputId": "c4e86a99-0a36-4b93-dba4-b5b13395ee03"
      },
      "outputs": [
        {
          "data": {
            "image/png": "[encoded data removed]",
            "text/plain": [
              "<Figure size 500x500 with 1 Axes>"
            ]
          },
          "metadata": {},
          "output_type": "display_data"
        }
      ],
      "source": [
        "#Diagramme en boite du nombre de tests\n",
        "plt.figure(figsize=(5,5))\n",
        "plt.boxplot(nb_test_moy_par_user)\n",
        "plt.title(\"Boxplot de la répartition du nombre de tests par participant\")\n",
        "plt.show()"
      ]
    },
    {
      "cell_type": "markdown",
      "metadata": {
        "id": "C7abD7ExkM-m"
      },
      "source": [
        "Bien qu'imprécise, cette visualisation permet de voir qu'il y a quelques valeurs très élevées et qu'il y a des valeurs extrêmes qu'on ne voyait pas avant, ici il y en a une à plus de 200, qu'on ne voyait pas sur les histogrammes.\n",
        "Il existerait donc un participant qui aurait fait plus de 250 tests."
      ]
    },
    {
      "cell_type": "markdown",
      "metadata": {
        "id": "o5PDLItWXtH9"
      },
      "source": [
        "### Proportion des bonnes identifications"
      ]
    },
    {
      "cell_type": "markdown",
      "metadata": {
        "id": "JcOdaqxrZpmc"
      },
      "source": [
        "Dans ce jeu de données, une interprétation importante à faire est l'identification correcte d'une vidéo, qu'elle soit \"Deepfake\" ou non."
      ]
    },
    {
      "cell_type": "code",
      "execution_count": 10,
      "metadata": {
        "colab": {
          "base_uri": "https://localhost:8080/"
        },
        "id": "WlvWqNCyeayC",
        "outputId": "dd94982f-42ed-4986-abf2-373bb2b3ffef"
      },
      "outputs": [
        {
          "name": "stdout",
          "output_type": "stream",
          "text": [
            "Nombre de tests avec bonnes identifications :  13443\n",
            "Nombre de tests avec mauvaises identifications :  13377\n"
          ]
        }
      ],
      "source": [
        "print(\"Nombre de tests avec bonnes identifications : \",len(df[df[\"guess\"]==df[\"correct\"]]))\n",
        "print(\"Nombre de tests avec mauvaises identifications : \",len(df[df[\"guess\"]!=df[\"correct\"]]))"
      ]
    },
    {
      "cell_type": "markdown",
      "metadata": {
        "id": "vD2gTHq0Z9Rn"
      },
      "source": [
        "Sans tenir compte du participant, en prenant tous les tests faits, on peut constater qu'il y a presque autant de tests avec bonne identification qu'avec identificatione erronée. Il y a seulement 66 tests de différences, ce qui est très peu comparé aux plus de 26 000 tests faits."
      ]
    },
    {
      "cell_type": "code",
      "execution_count": 11,
      "metadata": {
        "colab": {
          "base_uri": "https://localhost:8080/",
          "height": 0
        },
        "id": "vZ6oLceaX4bN",
        "outputId": "ea7cbd5f-e0d8-41c0-e138-02a2282ca4a0"
      },
      "outputs": [
        {
          "data": {
            "image/png": "[encoded data removed]",
            "text/plain": [
              "<Figure size 640x480 with 1 Axes>"
            ]
          },
          "metadata": {},
          "output_type": "display_data"
        }
      ],
      "source": [
        "#Bar chart des bons et mauvais tests\n",
        "da=df.copy()\n",
        "da[\"correct_guess\"]=df[\"guess\"]==df[\"correct\"]\n",
        "da[\"correct_guess\"].value_counts().plot(kind=\"bar\")\n",
        "plt.legend([\"Nombre de tests\"])\n",
        "plt.xticks([0,1],[\"Correct\",\"Incorrect\"])\n",
        "plt.title(\"Répartition des bons et mauvais tests\")\n",
        "plt.show()"
      ]
    },
    {
      "cell_type": "markdown",
      "metadata": {
        "id": "UjPBjp83Q9du"
      },
      "source": [
        "L'histogramme montre qu'il n'y a qu'une différence minime entre les bonnes et mauvaises réponses. Afin d'avoir une vision plus détaillée de ces décisions, qu'elles soient correctes ou incorrectes, nous pouvons également visualiser les vrais positifs, vrais négatifs, faux positifs et faux négatifs. "
      ]
    },
    {
      "cell_type": "code",
      "execution_count": 12,
      "metadata": {
        "id": "j7SDUAOoQ9du"
      },
      "outputs": [],
      "source": [
        "#Calcul des ces valeurs\n",
        "vraispositifs=sum(df[\"guess\"]*df[\"correct\"])\n",
        "vraisnegatifs=sum((1-df[\"guess\"])*(1-df[\"correct\"]))\n",
        "fauxpositifs=sum(df[\"guess\"]*(1-df[\"correct\"]))\n",
        "fauxnegatifs=sum((1-df[\"guess\"])*df[\"correct\"])"
      ]
    },
    {
      "cell_type": "code",
      "execution_count": 13,
      "metadata": {
        "colab": {
          "base_uri": "https://localhost:8080/",
          "height": 0
        },
        "id": "iFcVmhXLQ9du",
        "outputId": "acc6ac2c-edaf-4183-9006-3f3f49756f85"
      },
      "outputs": [
        {
          "data": {
            "image/png": "[encoded data removed]",
            "text/plain": [
              "<Figure size 640x480 with 1 Axes>"
            ]
          },
          "metadata": {},
          "output_type": "display_data"
        }
      ],
      "source": [
        "#Bar chart des ces variables\n",
        "fig = plt.figure()\n",
        "ax = fig.add_axes([0,0,1,1])\n",
        "resultats = ['Vrais Négatifs', 'Vrais Positifs', 'Faux Négatifs', ' Faux Positifs']\n",
        "valeurs = [vraisnegatifs,vraispositifs,fauxnegatifs,fauxpositifs]\n",
        "ax.bar(resultats,valeurs)\n",
        "plt.legend([\"Nombre de choix\"])\n",
        "plt.show()"
      ]
    },
    {
      "cell_type": "markdown",
      "metadata": {
        "id": "BP_JZZO4Q9dv"
      },
      "source": [
        "Grâce à cette visualisation, nous pouvons constater une nette majorité de \"vrais positifs\" (le sujet identifie correctement un deepfake) et de \"faux négatifs\" (le sujet affirme qu'il n'a pas affaire à un deepfake, alors que c'est le cas). "
      ]
    },
    {
      "cell_type": "markdown",
      "metadata": {
        "id": "uVcoG2CuaOZI"
      },
      "source": [
        "Maintenant que l'on connaît la proportion de bonnes et mauvaises identifications, nous pouvons étudier l'influence de tests nombreux sur la capacité de discernement de l'utilisateur."
      ]
    },
    {
      "cell_type": "markdown",
      "metadata": {
        "id": "oNVi6RstX6gh"
      },
      "source": [
        "### Plus de 10 vs moins de 10 \n",
        "\n",
        "\n"
      ]
    },
    {
      "cell_type": "markdown",
      "metadata": {
        "id": "RlGKlmzQevQ5"
      },
      "source": [
        "Si dans les autres visualisations on ne tenait pas compte de l'utilisateur, on va maintenant essayer de voir l'influence que peut avoir cette donnée."
      ]
    },
    {
      "cell_type": "code",
      "execution_count": 14,
      "metadata": {
        "colab": {
          "base_uri": "https://localhost:8080/"
        },
        "id": "GBe-wFSlfHVu",
        "outputId": "7d0b5c54-05dc-4075-9331-e1c698313f2a"
      },
      "outputs": [
        {
          "name": "stdout",
          "output_type": "stream",
          "text": [
            "Il y a  609  utilisateur qui ont fait plus de 10 tests\n",
            "Les participants ayant visionné plus de 10 tests ont répondu juste :  4824\n",
            "Pour : 9552  vidéos visionnées\n",
            "Soit un ratio de 50.50% d'identification correctes.\n"
          ]
        }
      ],
      "source": [
        "#Utilisateur ayant au moins 10 tests\n",
        "user_10_seen=df.query(\"seen>=10\")['user_id'].unique()\n",
        "#Récupération des donées contenant ces utilisateurs\n",
        "df_more_10=df[df[\"user_id\"].isin(user_10_seen)]\n",
        "#Tests avec bonne identification de ce sous-ensemble de données\n",
        "bon=df_more_10[df_more_10[\"correct\"]==df_more_10[\"guess\"]]\n",
        "\n",
        "print(\"Il y a \",len(user_10_seen),\" utilisateur qui ont fait plus de 10 tests\")\n",
        "print(\"Les participants ayant visionné plus de 10 tests ont répondu juste : \",len(bon))\n",
        "print(\"Pour :\",len(df_more_10),\" vidéos visionnées\")\n",
        "print(\"Soit un ratio de {:.2f}% d'identification correctes.\".format(len(bon)/len(df_more_10)*100))"
      ]
    },
    {
      "cell_type": "markdown",
      "metadata": {
        "id": "MRf055MWa3gj"
      },
      "source": [
        "Grâce à ces relevés, on constate que les participants ayant fait plus de 10 tests sont effectivement minoritaires, ils ne sont que 609.\n",
        "\n",
        "De plus, leur ratio de bonne identification semble être également proche de 50%, ce qui semble indiquer un effet nul du nombre de vidéos visionnées."
      ]
    },
    {
      "cell_type": "code",
      "execution_count": 15,
      "metadata": {
        "colab": {
          "base_uri": "https://localhost:8080/"
        },
        "id": "okGvWwtfbOIt",
        "outputId": "194e2c84-b7fb-4fef-970b-01951bc3a7e2"
      },
      "outputs": [
        {
          "name": "stdout",
          "output_type": "stream",
          "text": [
            "Il y a  4916  utilisateurs qui ont fait moins de 10 tests\n",
            "Les participants ayant visionné moins de 10 tests ont deviné :  8619\n",
            "Pour : 17268  vidéos visionnées\n",
            "Soit un ratio de 49.91% de bonnes identifications\n"
          ]
        }
      ],
      "source": [
        "#Utilisateurs ayant moins de 10 tests\n",
        "user_less_10_seen=df[~df[\"user_id\"].isin(user_10_seen)][\"user_id\"].unique()\n",
        "#Récupération des donées contenant ces utilisateurs\n",
        "df_less_10=df[~df[\"user_id\"].isin(user_10_seen)]\n",
        "#Tests avec bonne identification de ce sous-ensemble de données\n",
        "bon=df_less_10[df_less_10[\"correct\"]==df_less_10[\"guess\"]]\n",
        "\n",
        "print(\"Il y a \",len(user_less_10_seen),\" utilisateurs qui ont fait moins de 10 tests\")\n",
        "print(\"Les participants ayant visionné moins de 10 tests ont deviné : \",len(bon))\n",
        "print(\"Pour :\",len(df_less_10),\" vidéos visionnées\")\n",
        "print(\"Soit un ratio de {:.2f}% de bonnes identifications\".format(len(bon)/len(df_less_10)*100))"
      ]
    },
    {
      "cell_type": "markdown",
      "metadata": {
        "id": "2f6z7jtmc2Kk"
      },
      "source": [
        "L'observation peut se faire sur le groupe inverse, et effectivement il y a 8 fois plus de personnes ayant fait moins de 10 tests. Au niveau de réussite des tests cela semble assez similaire à ceux ayant fait plus de 10 tests.\n",
        "\n",
        "Il semblerait donc qu'il n'y ait pas de lien entre nombre de visionnages et réussite, de plus on pourrait tirer la conclusion que les participants ayant fait plus de 10 tests semblent être aussi précis que ceux en ayant fait moins.\n",
        "\n",
        "Mais ne tirons pas de conclusions pour l'instant, nous essaierons de généraliser cette observation dans les tests d'hypothèses plus tard."
      ]
    },
    {
      "cell_type": "markdown",
      "metadata": {
        "id": "mnENWRHfX_p4"
      },
      "source": [
        "### Le temps de réflexion"
      ]
    },
    {
      "cell_type": "markdown",
      "metadata": {
        "id": "XoAoDVqhd69d"
      },
      "source": [
        "Il peut aussi être utile de regarder le temps de réflexion par utilisateur, et de constater leur performance, tout en continuant la comparaison entre ceux ayant fait au moins 10 tests et ceux en ayant fait moins de 10.\n",
        "\n",
        "Précision : Nous n'avons accès qu'à une entrée de donnée temporelle par test, et utiliserons l'intervalle entre 2 entrées d'un même utilisateur pour calculer son \"temps de réflexion\". Ceci étant dit, nous n'avons pas connaissance des conditions de l'étude, cette valeur peut donc correspondre au temps de réflexion tout comme elle peut représenter une pause après une vidéo, puis le visionnage de la suivante, puis le temps de réflexion.\n",
        "Ne disposant toutefois que de ces entrées, nous considérerons donc l'intervalle entre deux tests comme temps de réflexion. "
      ]
    },
    {
      "cell_type": "code",
      "execution_count": 16,
      "metadata": {
        "id": "gA5mM0fthdmz"
      },
      "outputs": [],
      "source": [
        "#Pour calculer le temps de réflexion, on garde les utilisateurs ayant au moins fait 2 tests\n",
        "list_user=df.groupby(\"user_id\").filter(lambda x: len(x)>=2)\n",
        "#Récupération de l'id de ces utilisateurs\n",
        "list_user=list_user[\"user_id\"].unique()\n",
        "\n",
        "#Fonction calculant le temps de réflexion moyen pour un utilisateur (sur tous ses tests)\n",
        "#En soustrayant un à un les temps de création des tests pour connaitre le temps de réflexion\n",
        "def mean_reaction(da):\n",
        "    t1=pd.to_datetime(da.iloc[1:][\"time_created\"]).reset_index(drop=True)\n",
        "    t2=pd.to_datetime(da.iloc[0:-1][\"time_created\"]).reset_index(drop=True)\n",
        "    return (t1-t2).dt.seconds.mean()"
      ]
    },
    {
      "cell_type": "code",
      "execution_count": 17,
      "metadata": {
        "colab": {
          "base_uri": "https://localhost:8080/"
        },
        "id": "IDlkJnmpa9zr",
        "outputId": "eff71024-8439-4079-fa4d-ee7f065755db"
      },
      "outputs": [
        {
          "name": "stdout",
          "output_type": "stream",
          "text": [
            "Le temps de réflexion moyen par utilisateur est donc de :  220.54677784694297  secondes.\n"
          ]
        }
      ],
      "source": [
        "#Temps réflexion moyen général (pour les utilisateurs aavec au moins 2 tests)\n",
        "temps_reflexion_moy=df[df[\"user_id\"].isin(list_user)].groupby(\"user_id\").apply(lambda x:mean_reaction(x)).mean()\n",
        "\n",
        "print(\"Le temps de réflexion moyen par utilisateur est donc de : \",temps_reflexion_moy,\" secondes.\")"
      ]
    },
    {
      "cell_type": "markdown",
      "metadata": {
        "id": "Yl5vfl4dfMoh"
      },
      "source": [
        "Le temps de réflexion moyen pour tous les utilisateurs semble être assez élevé."
      ]
    },
    {
      "cell_type": "code",
      "execution_count": 18,
      "metadata": {
        "colab": {
          "base_uri": "https://localhost:8080/"
        },
        "id": "aDonFbmeeokM",
        "outputId": "8c889967-6d0e-4c92-94a6-56bf17574d11"
      },
      "outputs": [
        {
          "name": "stdout",
          "output_type": "stream",
          "text": [
            "Le temps de réflexion moyen par utilisateur ayant fait moins de 10 tests est donc de :  234.05290845245878  secondes.\n"
          ]
        }
      ],
      "source": [
        "#Calcul du temps de réflexion moyen pour les utilisateurs avec plus de 10 tests.\n",
        "list_user=df.groupby(\"user_id\").filter(lambda x: (len(x)>=2 and len(x)<10))\n",
        "list_user=list_user[\"user_id\"].unique()\n",
        "\n",
        "temps_reflexion_moy_less_10=df[df[\"user_id\"].isin(list_user)].groupby(\"user_id\").apply(lambda x:mean_reaction(x)).mean()\n",
        "print(\"Le temps de réflexion moyen par utilisateur ayant fait moins de 10 tests est donc de : \",temps_reflexion_moy_less_10,\" secondes.\")"
      ]
    },
    {
      "cell_type": "code",
      "execution_count": 19,
      "metadata": {
        "colab": {
          "base_uri": "https://localhost:8080/"
        },
        "id": "Q-mMFnI8e2T3",
        "outputId": "adf6642f-8e18-4036-cd38-3b4f3b0671c8"
      },
      "outputs": [
        {
          "name": "stdout",
          "output_type": "stream",
          "text": [
            "Le temps de réflexion moyen par utilisateur ayant au moins 10 tests est donc de :  180.0548686394259  secondes.\n"
          ]
        }
      ],
      "source": [
        "#Calcul du temps de réflexion moyen pour les utilisateurs au moins de 10 tests.\n",
        "list_user=df.groupby(\"user_id\").filter(lambda x: (len(x)>=10))\n",
        "list_user=list_user[\"user_id\"].unique()\n",
        "\n",
        "temps_reflexion_moy_more_10=df[df[\"user_id\"].isin(list_user)].groupby(\"user_id\").apply(lambda x:mean_reaction(x)).mean()\n",
        "print(\"Le temps de réflexion moyen par utilisateur ayant au moins 10 tests est donc de : \",temps_reflexion_moy_more_10,\" secondes.\")"
      ]
    },
    {
      "cell_type": "markdown",
      "metadata": {
        "id": "rXXL0RiGgS_F"
      },
      "source": [
        "La conclusion que l'on peut tirer de ces résultats est que les utilisateurs ayant fait plus de 10 tests semblent avoir un meilleur temps de réflexion d'en moyenne 50 secondes, ce qui n'est pas négligeable."
      ]
    },
    {
      "cell_type": "code",
      "execution_count": 20,
      "metadata": {
        "colab": {
          "base_uri": "https://localhost:8080/",
          "height": 0
        },
        "id": "g3SSwQRfgf97",
        "outputId": "01510a4d-bd21-459d-8c6c-6053f05cde49"
      },
      "outputs": [
        {
          "data": {
            "image/png": "[encoded data removed]",
            "text/plain": [
              "<Figure size 800x800 with 1 Axes>"
            ]
          },
          "metadata": {},
          "output_type": "display_data"
        }
      ],
      "source": [
        "#Bar chart des temps de réflexion moyens\n",
        "plt.figure(figsize=(8,8))\n",
        "plt.bar(x=[\"Général\",\"Moins de 10 tests\",\"Plus de 10 tests\"],height=[temps_reflexion_moy,temps_reflexion_moy_less_10,temps_reflexion_moy_more_10])\n",
        "plt.legend([\"Temps de réflexion moyen\"])\n",
        "plt.title(\"Temps de réflexion selon le nombre de tests des participants\")\n",
        "plt.show()"
      ]
    },
    {
      "cell_type": "markdown",
      "metadata": {
        "id": "UxwV1EETpRNZ"
      },
      "source": [
        "La tendance globale peut être ainsi visualisée."
      ]
    },
    {
      "cell_type": "markdown",
      "metadata": {
        "id": "rrpOqzo1YFzi"
      },
      "source": [
        "## Tests d'hypothèses"
      ]
    },
    {
      "cell_type": "markdown",
      "metadata": {
        "id": "8zWPANhabCtK"
      },
      "source": [
        "### Les participants font-ils mieux que le hasard ?"
      ]
    },
    {
      "cell_type": "markdown",
      "metadata": {
        "id": "Z9700f9-SbT3"
      },
      "source": [
        "Dans ce premier test d'hypothèses, nous souhaitons comparer la proportion de bonnes réponses à celle qui serait obtenue en décidant au hasard.\n",
        "En partant du principe que les données respectent une loi de Bernoulli (de paramètre p=0,5), nous allons effectuer un test paramétrique, plus particulièrement un test de conformité sur des proportions.\n",
        "\n",
        "On peut appliquer ce test car :\n",
        "  - Chaque test est indépendant\n",
        "  - Comme nous allons le voir, l'échantillon contient plus de 15 sujets avec et sans la caractéristique (identification correcte)\n",
        "  - La population est au moins 10 fois plus grande (population mondiale)."
      ]
    },
    {
      "cell_type": "code",
      "execution_count": 21,
      "metadata": {
        "colab": {
          "base_uri": "https://localhost:8080/"
        },
        "id": "JGrZGLIJbGKZ",
        "outputId": "39b951bf-29d7-4e7e-c9ab-0fae001dc706"
      },
      "outputs": [
        {
          "name": "stdout",
          "output_type": "stream",
          "text": [
            "Il y a eu :  26820  tests effectués\n",
            "Il y a eu :  13443  tests réussis\n"
          ]
        }
      ],
      "source": [
        "nb_total_test=df.shape[0]\n",
        "nb_test_reussi=df[df['guess']==df['correct']].shape[0]\n",
        "\n",
        "print(\"Il y a eu : \",nb_total_test,\" tests effectués\")\n",
        "print(\"Il y a eu : \",nb_test_reussi,\" tests réussis\")"
      ]
    },
    {
      "cell_type": "markdown",
      "metadata": {
        "id": "mV_v4gxATYz4"
      },
      "source": [
        "A partir de ces chiffres, peut-on mettre en évidence que les participants font mieux que le hasard ?\n",
        "\n",
        "Ici choisir au hasard reviendrait à avoir une probabilité de réussite pr=1/2 (identification correcte de la vidéo, deepfake ou pas). Si les participants font mieux que le hasard, nous obtiendrons pr>1/2.\n",
        "\n",
        "#### Formalisation du problème\n",
        "Nos hypothèses seront :\n",
        "  - H0 : \"Les participants ont une probabilité de réussite similaire à un choix au hasard\", soit H0 : pr=1/2\n",
        "  - H1 : \"Les participants font mieux que le hasard\", soit H1 : pr>1/2\n",
        "\n",
        "La statistique de test sera :\n",
        "Z = (pn-p0)/racine(po*(1-p0)/n) \n",
        "Avec po=1/2 et pn=13443/26820\n",
        "\n",
        "Ensuite il faudra calculer la valeur-p telle que :\n",
        "p=P(X>Z)=1-P(X<=Z)\n"
      ]
    },
    {
      "cell_type": "code",
      "execution_count": 22,
      "metadata": {
        "colab": {
          "base_uri": "https://localhost:8080/"
        },
        "id": "S0f5hvYVb6Qq",
        "outputId": "10757981-2b67-4a93-f961-51b4d2322fc1"
      },
      "outputs": [
        {
          "name": "stdout",
          "output_type": "stream",
          "text": [
            "La valeur de test est  : Z= 0.40300881799602023\n",
            "La valeur-p est  : p= 0.3434708687559418\n"
          ]
        }
      ],
      "source": [
        "#l'ensemble des participants font-ils mieux que le hasard ?\n",
        "#le hasard fait 50% de bonnes réponses, on va donc calculer la p value correspondante par rapport à 0.5\n",
        "\n",
        "Z = ((nb_test_reussi/nb_total_test) - 0.5 ) / m.sqrt(0.5 * (1 - 0.5) / nb_total_test)\n",
        "print(\"La valeur de test est  : Z=\",Z)\n",
        "\n",
        "p_value = 1-norm.cdf(abs(Z))\n",
        "print(\"La valeur-p est  : p=\",p_value)"
      ]
    },
    {
      "cell_type": "markdown",
      "metadata": {
        "id": "lZ1ZHsp5Q9dz"
      },
      "source": [
        "Nous obtenons une valeur-p d'envrion 0.34, ce qui est bien supérieur à tout seuil raisonnable. L'hypothèse nulle ne peut donc pas être rejetée. Les données ne mettent pas en évidence que les participants font mieux que le hasard. "
      ]
    },
    {
      "cell_type": "markdown",
      "metadata": {
        "id": "RuuGn80icgWJ"
      },
      "source": [
        "### Les participants ayant au moins 10 tests ont-ils de meilleures performances que ceux en ayant fait moins ?"
      ]
    },
    {
      "cell_type": "markdown",
      "metadata": {
        "id": "N5oNO6jliQ6a"
      },
      "source": [
        "Dans ce test d'hypothèses nous souhaitons savoir si les participants ayant au moins 10 tests à leur actif ont de meilleurs performances que ceux en ayant fait moins. \n",
        "Il y avait plusieurs manières possibles de répondre à cette question, nous avons choisi de l'aborder sous l'angle de l'indépendance.\n",
        "\n",
        "Nous allons voir si les caractères de \"réussite\" et du \"nombre de tests\" sont indépendants ou non. Nous procédons donc à un test d'indépendance.\n",
        "\n",
        "On peut appliquer ce test car :\n",
        "  - Chaque effectif contient des valeurs supérieures à 5 (voir en dessous)."
      ]
    },
    {
      "cell_type": "code",
      "execution_count": 23,
      "metadata": {
        "colab": {
          "base_uri": "https://localhost:8080/"
        },
        "id": "IvfzpNQpcnz5",
        "outputId": "e61712aa-8a57-4f20-e235-f11b8eb8c9d4"
      },
      "outputs": [
        {
          "name": "stdout",
          "output_type": "stream",
          "text": [
            "Il y a :  9552  tests de personnes ayant fait au moins 10 tests\n",
            "Il y a :  4824  tests corrects parmi ceux-là\n",
            "Il y a :  50.502512562814076 % tests corrects parmi ceux-là\n",
            "Il y a :  17268  tests de personnes ayant fait moins de 10 tests\n",
            "Il y a :  8619  tests corrects parmi ceux-là\n",
            "Il y a :  49.9131341209173 % tests corrects parmi ceux-là\n"
          ]
        }
      ],
      "source": [
        "user_more_10=df[df[\"seen\"]>=10][\"user_id\"]\n",
        "user_less_10=df[~df[\"user_id\"].isin(df[df[\"seen\"]>=10][\"user_id\"])][\"user_id\"]\n",
        "\n",
        "\n",
        "df_more_10=df[df[\"user_id\"].isin(user_more_10)]\n",
        "df_less_10=df[df[\"user_id\"].isin(user_less_10)]\n",
        "\n",
        "print(\"Il y a : \",df_more_10.shape[0],\" tests de personnes ayant fait au moins 10 tests\")\n",
        "print(\"Il y a : \",df_more_10[df_more_10['guess']==df_more_10['correct']].shape[0],\" tests corrects parmi ceux-là\")\n",
        "print(\"Il y a : \",df_more_10[df_more_10['guess']==df_more_10['correct']].shape[0]/df_more_10.shape[0]*100 ,\"% tests corrects parmi ceux-là\")\n",
        "print(\"Il y a : \",df_less_10.shape[0],\" tests de personnes ayant fait moins de 10 tests\")\n",
        "print(\"Il y a : \",df_less_10[df_less_10['guess']==df_less_10['correct']].shape[0],\" tests corrects parmi ceux-là\")\n",
        "print(\"Il y a : \",df_less_10[df_less_10['guess']==df_less_10['correct']].shape[0]/df_less_10.shape[0]*100 ,\"% tests corrects parmi ceux-là\")\n"
      ]
    },
    {
      "cell_type": "markdown",
      "metadata": {
        "id": "BVniHvfKYSun"
      },
      "source": [
        "A partir de ces chiffres, peut-on mettre en avant l'indépendance du nombre de tests et de la réussite ?\n",
        "\n",
        "#### Formalisation du test\n",
        "Nos hypothèses seront :\n",
        "  - H0 : \"Le nombre de tests et la réussite sont indépendants\"\n",
        "  - H1 : \"Le nombre de tests et la réussite ne sont pas indépendants\"\n",
        "\n",
        "La statistique de test sera calculée avec une librairie python, après construction d'un tableau réunissant les données.\n",
        "La valeur-p sera p=P(X>Z), elle aussi son calcul sera compris dans la librairie python.  "
      ]
    },
    {
      "cell_type": "code",
      "execution_count": 24,
      "metadata": {
        "colab": {
          "base_uri": "https://localhost:8080/"
        },
        "id": "ApR7qKRyQ9dz",
        "outputId": "a4e41236-c8e0-44b8-9fb6-76ebcadb6072"
      },
      "outputs": [
        {
          "name": "stdout",
          "output_type": "stream",
          "text": [
            "La valeur-p est de :  0.36194885854285286\n"
          ]
        }
      ],
      "source": [
        "#Les participants ayant fait plus de 10 tests font-ils mieux que ceux ayant fait moins de 10 tests ?\n",
        "#On va faire un test de chi2 pour voir si les deux distributions sont différentes\n",
        "\n",
        "#On va faire un tableau de contingence\n",
        "#on a 2 colonnes : 1 pour les bonnes réponses et 1 pour les mauvaises réponses\n",
        "#on a 2 lignes : 1 pour les personnes ayant fait plus de 10 tests et 1 pour les personnes ayant fait moins de 10 tests\n",
        "\n",
        "#on cree un tableau de contingence vide\n",
        "tableau_contingence=np.zeros((2,2))\n",
        "\n",
        "#on remplit le tableau de contingence\n",
        "\n",
        "#on remplit la premiere ligne\n",
        "tableau_contingence[0,0]=df_more_10[df_more_10['guess']==df_more_10['correct']].shape[0]\n",
        "tableau_contingence[0,1]=df_more_10[df_more_10['guess']!=df_more_10['correct']].shape[0]\n",
        "#on remplit la deuxieme ligne\n",
        "tableau_contingence[1,0]=df_less_10[df_less_10['guess']==df_less_10['correct']].shape[0]\n",
        "tableau_contingence[1,1]=df_less_10[df_less_10['guess']!=df_less_10['correct']].shape[0]\n",
        "\n",
        "#on fait le test de chi2\n",
        "chi2_contingency(tableau_contingence)\n",
        "\n",
        "print(\"La valeur-p est de : \",chi2_contingency(tableau_contingence)[1])"
      ]
    },
    {
      "cell_type": "markdown",
      "metadata": {
        "id": "0fabwP3OQ9dz"
      },
      "source": [
        "La valeur-p résultante du test étant de 0.36194885854285286, elle reste très au-dessus de tout seuil raisonnable. L'hypothèse nulle n'est donc pas rejetée : le nombre de tests et la réussite sont indépendants.\n",
        "Comme le nombre de tests est indépendant de la réussite, on en conclut que les sujets ayant fait plus de 10 tests ne sont apparemment pas plus aptes que les autres à détecter les deepfakes. "
      ]
    },
    {
      "cell_type": "markdown",
      "metadata": {
        "id": "ouytcFzyht_P"
      },
      "source": [
        "### Les participants ayant fait au moins 10 tests font-ils mieux que le meilleur algorithme ?"
      ]
    },
    {
      "cell_type": "markdown",
      "metadata": {
        "id": "2_raaoCNbVWO"
      },
      "source": [
        "Dans ce test d'hypothèses, nous souhaitons comparer la proportion de bonnes réponses à celle qui serait obtenue par le meilleur des algorithmes existant à l'époque de la réalisation de l'étude.\n",
        "En partant du principe que les données respectent une loi de Bernoulli, nous allons effectuer un test paramétrique; plus particulièrement un test de conformité sur des proportions.\n",
        "\n",
        "On peut appliquer ce test car :\n",
        "  - Chaque test est indépendant\n",
        "  - Comme nous allons le voir, l'échantillon contient plus de 15 sujets avec et sans la caractéristique (identification correcte)\n",
        "  - La population est au moins 10 fois plus grande (population mondiale)."
      ]
    },
    {
      "cell_type": "code",
      "execution_count": 25,
      "metadata": {
        "colab": {
          "base_uri": "https://localhost:8080/"
        },
        "id": "2nZtefY6h1Cb",
        "outputId": "fa79d435-59f8-4538-92cd-18e81e9ac6bc"
      },
      "outputs": [
        {
          "name": "stdout",
          "output_type": "stream",
          "text": [
            "Il y a :  9552  tests de personnes ayant fait au moins 10 tests\n",
            "Il y a :  4824  tests corrects parmi ceux-là\n"
          ]
        }
      ],
      "source": [
        "user_more_10=df[df[\"seen\"]>=10][\"user_id\"]\n",
        "\n",
        "df_more_10=df[df[\"user_id\"].isin(user_more_10)]\n",
        "\n",
        "print(\"Il y a : \",df_more_10.shape[0],\" tests de personnes ayant fait au moins 10 tests\")\n",
        "print(\"Il y a : \",df_more_10[df_more_10['guess']==df_more_10['correct']].shape[0],\" tests corrects parmi ceux-là\")\n"
      ]
    },
    {
      "cell_type": "markdown",
      "metadata": {
        "id": "Ww-SZbd4b0fF"
      },
      "source": [
        "A partir de ces chiffres, peut-on mettre en évidence que les participants font mieux que le meilleur algorithme, ayant un taux de réussite de 65% ?\n",
        "\n",
        "Pour les participants, faire  mieux que l'algorithme reviendrait à obtenir pr>65/100.\n",
        "\n",
        "Avoir des résultats inférieurs ou égaux (ne pas faire mieux, donc) à ceux de l'algorithme impliquerait pr <=65/100.\n",
        "\n",
        "#### Formalisation du problème\n",
        "Nos hypothèses seront :\n",
        "  - H0 : \"Les participants ne font pas mieux que l'algorithme\", soit H0 : pr<=65/100\n",
        "  - H1 : \"Les participants font mieux que l'algorithme\", soit H1 : pr>65/100\n",
        "\n",
        "La statistique de test sera :\n",
        "Z = (pn-p0)/racine(po*(1-p0)/n) \n",
        "Avec po=65/100 et pn=4824/9552\n",
        "\n",
        "Ensuite, il faudra calculer la valeur-p telle que :\n",
        "p=P(X>Z)=1-P(X<=Z)\n"
      ]
    },
    {
      "cell_type": "code",
      "execution_count": 26,
      "metadata": {
        "colab": {
          "base_uri": "https://localhost:8080/"
        },
        "id": "OSCZMFoNQ9d0",
        "outputId": "5d416546-f151-4980-804e-bbf7372052be"
      },
      "outputs": [
        {
          "name": "stdout",
          "output_type": "stream",
          "text": [
            "La valeur de test est  : Z= -29.7063434251503\n",
            "La valeur-p est  : p= 1.0\n"
          ]
        }
      ],
      "source": [
        "nb_test_reussi_above_10 = df_more_10[df_more_10['guess']==df_more_10['correct']].shape[0] \n",
        "nb_total_above_10 = df_more_10.shape[0]\n",
        "\n",
        "Z = ((nb_test_reussi_above_10/nb_total_above_10) - 0.65 ) / m.sqrt(0.65 * (1 - 0.65) / nb_total_above_10)\n",
        "print(\"La valeur de test est  : Z=\",Z)\n",
        "\n",
        "p_value = 1-norm.cdf((Z))\n",
        "print(\"La valeur-p est  : p=\",p_value)"
      ]
    },
    {
      "cell_type": "markdown",
      "metadata": {
        "id": "zSV2244_c-dd"
      },
      "source": [
        "Nous obtenons une valeur-p extrêmement haute. Afin d'obtenir une confirmation de notre résultat, nous décidons d'utiliser une autre librairie python pour effectuer un autre test de conformité à une loi.\n",
        "#### Vérification secondaire en passant par une Loi Bernouilli de paramètre 0.65\n",
        "L'objectif de ce dernier test sera de comparer nos données à une loi de Bernoulli à un taux de 0.65."
      ]
    },
    {
      "cell_type": "code",
      "execution_count": 27,
      "metadata": {
        "colab": {
          "base_uri": "https://localhost:8080/"
        },
        "id": "l50PiVpUQ9d0",
        "outputId": "4f86b642-c925-47e8-d5f3-55518ec04893"
      },
      "outputs": [
        {
          "name": "stdout",
          "output_type": "stream",
          "text": [
            "La valeur-p est  : p= 3.887207245928397e-185\n"
          ]
        }
      ],
      "source": [
        "p_val=binom_test(df_more_10[df_more_10['guess']==df_more_10['correct']].shape[0],df_more_10.shape[0],0.65)\n",
        "print(\"La valeur-p est  : p=\",p_val)"
      ]
    },
    {
      "cell_type": "markdown",
      "metadata": {
        "id": "1Oc2iCV4Q9d1"
      },
      "source": [
        "Grâce à cette valeur-p quasi-nulle obtenue, nous voyons que les résultats des participants sont très loin de suivre une loi de Bernoulli de paramètre p=0,65.\n",
        "De plus, avec le test d'homogénéité, dont la valeur p est supérieure à tout seuil possible, on ne peut rejeter l'hypothèse nulle. Les données mettent en évidence que les participants sont loin d'être plus performants que le meilleur des algorithmes."
      ]
    },
    {
      "cell_type": "markdown",
      "metadata": {
        "id": "Nzdb_Nx4oLQb"
      },
      "source": [
        "#### Conclusion\n",
        "\n",
        "Grâce aux différents tests menés, nous avons pu constater que, pour les participants de cette étude, la capacité à différencier entre les vidéos deepfake et les vidéos non modifiées semble être de l'ordre du hasard.\n",
        "Nous avons par la suite montré que l'entraînement ne modifiait pas le pourcentage de bonnes réponses et que le pourcentage de réussite était indépendant du nombre de tests réalisés par une même personne.\n",
        "Même les utilisateurs ayant fait au moins 10 tests semblent être moins efficaces que l'algorithme.\n",
        "\n",
        "Comme les personnes ont un taux de réussite similaire à celui obtenu en décidant au hasard, que l'entraînement (plus de 10 tests) ne joue pas ou très peu sur les résultats et que l'algorithme est nettement au-dessus des 50% de réussite propres au hasard, il est évident que l'algorithme obtient de bien meilleurs résultats que les participants, entraînés ou non. "
      ]
    }
  ],
  "metadata": {
    "colab": {
      "collapsed_sections": [
        "OrB1a__PVBNv",
        "8iVWH3fkXnKe"
      ],
      "provenance": []
    },
    "kernelspec": {
      "display_name": "Python 3.10.7 64-bit",
      "language": "python",
      "name": "python3"
    },
    "language_info": {
      "codemirror_mode": {
        "name": "ipython",
        "version": 3
      },
      "file_extension": ".py",
      "mimetype": "text/x-python",
      "name": "python",
      "nbconvert_exporter": "python",
      "pygments_lexer": "ipython3",
      "version": "3.10.7"
    },
    "vscode": {
      "interpreter": {
        "hash": "a72b23e87553e00601ff267df752548b996ddd8fefefc876c0122a15ca3ede70"
      }
    }
  },
  "nbformat": 4,
  "nbformat_minor": 0
}
